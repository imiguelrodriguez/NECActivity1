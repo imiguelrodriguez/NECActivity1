{
 "cells": [
  {
   "metadata": {},
   "cell_type": "markdown",
   "source": "# Neural Network with Back-Propagation\n",
   "id": "682460b28bf9b43b"
  },
  {
   "metadata": {
    "ExecuteTime": {
     "end_time": "2024-11-30T12:17:33.781069Z",
     "start_time": "2024-11-30T12:17:33.776813Z"
    }
   },
   "cell_type": "code",
   "source": [
    "#import libraries\n",
    "from NeuralNet import NeuralNet\n",
    "\n",
    "import pandas as pd\n",
    "from sklearn.model_selection import train_test_split\n",
    "import numpy as np\n"
   ],
   "id": "29e21d7b8653b6b2",
   "outputs": [],
   "execution_count": 14
  },
  {
   "metadata": {
    "ExecuteTime": {
     "end_time": "2024-11-30T11:38:07.432220Z",
     "start_time": "2024-11-30T11:38:07.308887Z"
    }
   },
   "cell_type": "code",
   "source": [
    "df = pd.read_csv('clean.csv')\n",
    "\n",
    "X_train, X_test, y_train, y_test = train_test_split(df.drop(columns=['price']).values, df['price'].values, test_size=0.2, random_state=42)\n"
   ],
   "id": "8ff07bcaec2e19cc",
   "outputs": [],
   "execution_count": 12
  },
  {
   "metadata": {},
   "cell_type": "code",
   "outputs": [],
   "execution_count": null,
   "source": [
    "# Exemple enunciat\n",
    "layers = [3, 9, 5, 1]\n",
    "\n",
    "nn = NeuralNet(layers, epochs=100, learn_rate=0.01, momentum=0.9, fun=\"relu\")\n"
   ],
   "id": "7c6e40de185094ad"
  },
  {
   "metadata": {},
   "cell_type": "code",
   "outputs": [],
   "execution_count": null,
   "source": [
    "# Training\n",
    "nn.fit(X_train, y_train)"
   ],
   "id": "3775e846b6c46bca"
  },
  {
   "metadata": {},
   "cell_type": "code",
   "outputs": [],
   "execution_count": null,
   "source": [
    "# Predictions\n",
    "predictions = nn.predict(X_test)"
   ],
   "id": "60553def31e7603f"
  }
 ],
 "metadata": {
  "kernelspec": {
   "display_name": "Python 3",
   "language": "python",
   "name": "python3"
  },
  "language_info": {
   "codemirror_mode": {
    "name": "ipython",
    "version": 2
   },
   "file_extension": ".py",
   "mimetype": "text/x-python",
   "name": "python",
   "nbconvert_exporter": "python",
   "pygments_lexer": "ipython2",
   "version": "2.7.6"
  }
 },
 "nbformat": 4,
 "nbformat_minor": 5
}
